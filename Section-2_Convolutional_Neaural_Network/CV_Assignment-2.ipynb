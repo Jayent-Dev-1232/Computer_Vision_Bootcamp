{
 "cells": [
  {
   "cell_type": "markdown",
   "id": "c5042909",
   "metadata": {},
   "source": [
    "# ***Computer Vision Assignment-2 Solution***"
   ]
  },
  {
   "cell_type": "markdown",
   "id": "829779f9",
   "metadata": {},
   "source": [
    "## ***Basic Level***"
   ]
  },
  {
   "cell_type": "markdown",
   "id": "0015d880",
   "metadata": {},
   "source": [
    "##### ***Step-1: Importing necessary libraries***"
   ]
  },
  {
   "cell_type": "code",
   "execution_count": 1,
   "id": "c9bb79c4",
   "metadata": {},
   "outputs": [],
   "source": [
    "import numpy as np\n",
    "import torch\n",
    "import torch.nn as nn\n",
    "import torch.optim as optim\n",
    "import torchvision\n",
    "import torchvision.transforms as transforms\n",
    "from torch.utils.data import DataLoader\n",
    "from sklearn.metrics import accuracy_score, precision_score, recall_score, f1_score, confusion_matrix\n",
    "import seaborn as sns\n",
    "import matplotlib.pyplot as plt"
   ]
  },
  {
   "cell_type": "markdown",
   "id": "b359f5f5",
   "metadata": {},
   "source": [
    "##### ***Step-2: Setting up the device either GPU or CPU***"
   ]
  },
  {
   "cell_type": "code",
   "execution_count": 3,
   "id": "2f9a5e4f",
   "metadata": {},
   "outputs": [
    {
     "name": "stdout",
     "output_type": "stream",
     "text": [
      "Using device: cuda\n"
     ]
    }
   ],
   "source": [
    "device = torch.device('cuda' if torch.cuda.is_available() else 'cpu')\n",
    "print(f'Using device: {device}')\n",
    "\n",
    "transform = transforms.Compose([\n",
    "    transforms.ToTensor(),\n",
    "    transforms.Normalize((0.5, 0.5, 0.5), (0.5, 0.5, 0.5))  # Normalize the dataset\n",
    "])"
   ]
  },
  {
   "cell_type": "markdown",
   "id": "f1b94de8",
   "metadata": {},
   "source": [
    "##### ***Step-3: Loading CIFAR-10 dataset***"
   ]
  },
  {
   "cell_type": "code",
   "execution_count": 5,
   "id": "86d612dc",
   "metadata": {},
   "outputs": [
    {
     "name": "stdout",
     "output_type": "stream",
     "text": [
      "Downloading https://www.cs.toronto.edu/~kriz/cifar-10-python.tar.gz to ./data\\cifar-10-python.tar.gz\n"
     ]
    },
    {
     "name": "stderr",
     "output_type": "stream",
     "text": [
      "100%|██████████| 170M/170M [01:47<00:00, 1.58MB/s] \n"
     ]
    },
    {
     "name": "stdout",
     "output_type": "stream",
     "text": [
      "Extracting ./data\\cifar-10-python.tar.gz to ./data\n",
      "Files already downloaded and verified\n"
     ]
    }
   ],
   "source": [
    "train_dataset = torchvision.datasets.CIFAR10(root='./data', train=True, download=True, transform=transform)\n",
    "test_dataset = torchvision.datasets.CIFAR10(root='./data', train=False, download=True, transform=transform)\n",
    "\n",
    "train_loader = DataLoader(dataset=train_dataset, batch_size=64, shuffle=True)\n",
    "test_loader = DataLoader(dataset=test_dataset, batch_size=64, shuffle=False)"
   ]
  },
  {
   "cell_type": "markdown",
   "id": "9233d060",
   "metadata": {},
   "source": [
    "##### ***Step-4: Artificial Neural Network(ANN) classifier***"
   ]
  },
  {
   "cell_type": "code",
   "execution_count": 22,
   "id": "36c47cd7",
   "metadata": {},
   "outputs": [],
   "source": [
    "class ANN(nn.Module):\n",
    "    def __init__(self):\n",
    "        super(ANN, self).__init__()\n",
    "        self.fc1 = nn.Linear(32*32*3, 512)  # Input layer to hidden layer\n",
    "        self.fc2 = nn.Linear(512, 256)   # Hidden layer to another hidden layer\n",
    "        self.fc3 = nn.Linear(256, 10)    # Hidden layer to output layer\n",
    "\n",
    "    def forward(self, x):\n",
    "        # TODO: Define forward pass\n",
    "        x = x.view(-1, 32*32*3)  # Flatten the input image\n",
    "        x = torch.relu(self.fc1(x))  # First fully connected layer + relu activation\n",
    "        x = torch.relu(self.fc2(x))  # Second fully connected layer + relu activation\n",
    "        x = self.fc3(x)  # Output layer\n",
    "        return x"
   ]
  },
  {
   "cell_type": "markdown",
   "id": "03235dfe",
   "metadata": {},
   "source": [
    "##### ***Step-5***"
   ]
  },
  {
   "cell_type": "code",
   "execution_count": 23,
   "id": "d5061df7",
   "metadata": {},
   "outputs": [],
   "source": [
    "model_ann = ANN().to(device)\n",
    "criterion = nn.CrossEntropyLoss()\n",
    "optimizer = optim.Adam(model_ann.parameters(), lr=0.001)"
   ]
  },
  {
   "cell_type": "markdown",
   "id": "3eb30558",
   "metadata": {},
   "source": [
    "##### ***Step-6: Training Loop***"
   ]
  },
  {
   "cell_type": "code",
   "execution_count": 24,
   "id": "c9535c41",
   "metadata": {},
   "outputs": [
    {
     "name": "stdout",
     "output_type": "stream",
     "text": [
      "Epoch [1/10], Step [100/782], Loss: 1.9655\n",
      "Epoch [1/10], Step [200/782], Loss: 1.4611\n",
      "Epoch [1/10], Step [300/782], Loss: 1.5965\n",
      "Epoch [1/10], Step [400/782], Loss: 1.7205\n",
      "Epoch [1/10], Step [500/782], Loss: 1.8609\n",
      "Epoch [1/10], Step [600/782], Loss: 1.4787\n",
      "Epoch [1/10], Step [700/782], Loss: 1.4671\n",
      "Epoch [2/10], Step [100/782], Loss: 1.2873\n",
      "Epoch [2/10], Step [200/782], Loss: 1.4209\n",
      "Epoch [2/10], Step [300/782], Loss: 1.6078\n",
      "Epoch [2/10], Step [400/782], Loss: 1.4813\n",
      "Epoch [2/10], Step [500/782], Loss: 1.6119\n",
      "Epoch [2/10], Step [600/782], Loss: 1.4848\n",
      "Epoch [2/10], Step [700/782], Loss: 1.5688\n",
      "Epoch [3/10], Step [100/782], Loss: 1.5455\n",
      "Epoch [3/10], Step [200/782], Loss: 1.2454\n",
      "Epoch [3/10], Step [300/782], Loss: 1.2511\n",
      "Epoch [3/10], Step [400/782], Loss: 1.3923\n",
      "Epoch [3/10], Step [500/782], Loss: 1.2212\n",
      "Epoch [3/10], Step [600/782], Loss: 1.2402\n",
      "Epoch [3/10], Step [700/782], Loss: 1.2752\n",
      "Epoch [4/10], Step [100/782], Loss: 1.4090\n",
      "Epoch [4/10], Step [200/782], Loss: 1.4280\n",
      "Epoch [4/10], Step [300/782], Loss: 1.1784\n",
      "Epoch [4/10], Step [400/782], Loss: 1.3641\n",
      "Epoch [4/10], Step [500/782], Loss: 0.9250\n",
      "Epoch [4/10], Step [600/782], Loss: 1.3144\n",
      "Epoch [4/10], Step [700/782], Loss: 1.2701\n",
      "Epoch [5/10], Step [100/782], Loss: 1.2407\n",
      "Epoch [5/10], Step [200/782], Loss: 1.0487\n",
      "Epoch [5/10], Step [300/782], Loss: 1.0070\n",
      "Epoch [5/10], Step [400/782], Loss: 1.2125\n",
      "Epoch [5/10], Step [500/782], Loss: 1.0242\n",
      "Epoch [5/10], Step [600/782], Loss: 1.1171\n",
      "Epoch [5/10], Step [700/782], Loss: 1.2467\n",
      "Epoch [6/10], Step [100/782], Loss: 0.9297\n",
      "Epoch [6/10], Step [200/782], Loss: 0.9733\n",
      "Epoch [6/10], Step [300/782], Loss: 0.9077\n",
      "Epoch [6/10], Step [400/782], Loss: 1.0897\n",
      "Epoch [6/10], Step [500/782], Loss: 1.0718\n",
      "Epoch [6/10], Step [600/782], Loss: 0.9822\n",
      "Epoch [6/10], Step [700/782], Loss: 0.9676\n",
      "Epoch [7/10], Step [100/782], Loss: 0.9894\n",
      "Epoch [7/10], Step [200/782], Loss: 1.0222\n",
      "Epoch [7/10], Step [300/782], Loss: 1.0097\n",
      "Epoch [7/10], Step [400/782], Loss: 1.0932\n",
      "Epoch [7/10], Step [500/782], Loss: 0.8339\n",
      "Epoch [7/10], Step [600/782], Loss: 0.8494\n",
      "Epoch [7/10], Step [700/782], Loss: 1.2511\n",
      "Epoch [8/10], Step [100/782], Loss: 1.1239\n",
      "Epoch [8/10], Step [200/782], Loss: 0.7218\n",
      "Epoch [8/10], Step [300/782], Loss: 0.8462\n",
      "Epoch [8/10], Step [400/782], Loss: 0.9507\n",
      "Epoch [8/10], Step [500/782], Loss: 0.7362\n",
      "Epoch [8/10], Step [600/782], Loss: 0.8882\n",
      "Epoch [8/10], Step [700/782], Loss: 0.8400\n",
      "Epoch [9/10], Step [100/782], Loss: 0.5263\n",
      "Epoch [9/10], Step [200/782], Loss: 0.8670\n",
      "Epoch [9/10], Step [300/782], Loss: 0.8785\n",
      "Epoch [9/10], Step [400/782], Loss: 1.0367\n",
      "Epoch [9/10], Step [500/782], Loss: 0.7775\n",
      "Epoch [9/10], Step [600/782], Loss: 0.7220\n",
      "Epoch [9/10], Step [700/782], Loss: 1.0552\n",
      "Epoch [10/10], Step [100/782], Loss: 0.7234\n",
      "Epoch [10/10], Step [200/782], Loss: 0.6906\n",
      "Epoch [10/10], Step [300/782], Loss: 0.7124\n",
      "Epoch [10/10], Step [400/782], Loss: 0.8671\n",
      "Epoch [10/10], Step [500/782], Loss: 0.6910\n",
      "Epoch [10/10], Step [600/782], Loss: 0.7197\n",
      "Epoch [10/10], Step [700/782], Loss: 0.5879\n"
     ]
    }
   ],
   "source": [
    "# Training loop\n",
    "num_epochs = 10\n",
    "ls_losses = []\n",
    "for epoch in range(num_epochs):\n",
    "    for i, (images, labels) in enumerate(train_loader):\n",
    "        images = images.to(device)\n",
    "        labels =  labels.to(device)\n",
    "\n",
    "        # Forward pass\n",
    "        outputs = model_ann(images)\n",
    "        loss = criterion(outputs, labels)\n",
    "        ls_losses.append(loss.item())\n",
    "\n",
    "        # Backward pass and optimization\n",
    "        optimizer.zero_grad()\n",
    "        loss.backward()\n",
    "        optimizer.step()\n",
    "\n",
    "        if (i+1) % 100 == 0:\n",
    "            print(f'Epoch [{epoch+1}/{num_epochs}], Step [{i+1}/{len(train_loader)}], Loss: {loss.item():.4f}')"
   ]
  },
  {
   "cell_type": "markdown",
   "id": "ddfb689c",
   "metadata": {},
   "source": [
    "##### ***Step-7: Plotting losses***"
   ]
  },
  {
   "cell_type": "code",
   "execution_count": 25,
   "id": "d9f406b8",
   "metadata": {},
   "outputs": [
    {
     "data": {
      "image/png": "[encoded data removed]",
      "text/plain": [
       "<Figure size 640x480 with 1 Axes>"
      ]
     },
     "metadata": {},
     "output_type": "display_data"
    }
   ],
   "source": [
    "x_axis = np.arange(0, len(ls_losses), 1)\n",
    "plt.plot(x_axis, ls_losses)\n",
    "plt.xlabel = \"Sample\"\n",
    "plt.ylabel = \"Loss\""
   ]
  },
  {
   "cell_type": "markdown",
   "id": "a91ae238",
   "metadata": {},
   "source": [
    "##### ***Step-8: Testing the model***"
   ]
  },
  {
   "cell_type": "code",
   "execution_count": 26,
   "id": "75682168",
   "metadata": {},
   "outputs": [
    {
     "name": "stdout",
     "output_type": "stream",
     "text": [
      "ANN Accuracy: 0.5302\n",
      "ANN Precision: 0.5325\n",
      "ANN Recall: 0.5302\n",
      "ANN F1-Score: 0.5298\n"
     ]
    }
   ],
   "source": [
    "# Test the model\n",
    "model_ann.eval()\n",
    "all_preds_ann = []\n",
    "all_labels_ann = []\n",
    "\n",
    "with torch.no_grad():\n",
    "    for images, labels in test_loader:\n",
    "        images = images.to(device)\n",
    "        labels = labels.to(device)\n",
    "\n",
    "        # Forward pass\n",
    "        outputs = model_ann(images)\n",
    "\n",
    "        _, predicted = torch.max(outputs.data, 1)\n",
    "        all_preds_ann.extend(predicted.cpu().numpy())\n",
    "        all_labels_ann.extend(labels.cpu().numpy())\n",
    "\n",
    "accuracy_ann = accuracy_score(all_labels_ann, all_preds_ann)\n",
    "precision_ann = precision_score(all_labels_ann, all_preds_ann, average='weighted')\n",
    "recall_ann = recall_score(all_labels_ann, all_preds_ann, average='weighted')\n",
    "f1_ann = f1_score(all_labels_ann, all_preds_ann, average='weighted')\n",
    "\n",
    "print(f\"ANN Accuracy: {accuracy_ann:.4f}\")\n",
    "print(f\"ANN Precision: {precision_ann:.4f}\")\n",
    "print(f\"ANN Recall: {recall_ann:.4f}\")\n",
    "print(f\"ANN F1-Score: {f1_ann:.4f}\")"
   ]
  },
  {
   "cell_type": "markdown",
   "id": "28a46dc1",
   "metadata": {},
   "source": [
    "##### ***Step-9: Convolutional Neural Network architecture using PyTorch***"
   ]
  },
  {
   "cell_type": "code",
   "execution_count": 27,
   "id": "0cfa3680",
   "metadata": {},
   "outputs": [],
   "source": [
    "class CNN(nn.Module):\n",
    "    def __init__(self):\n",
    "        super(CNN, self).__init__()\n",
    "        self.conv1 = nn.Conv2d(3, 32, kernel_size=3, padding=1)\n",
    "        self.pool = nn.MaxPool2d(2, 2)\n",
    "        self.conv2 = nn.Conv2d(32, 64, kernel_size=3, padding=1)\n",
    "        self.fc1 = nn.Linear(64*8*8, 512)\n",
    "        self.fc2 = nn.Linear(512, 10)\n",
    "\n",
    "    def forward(self, x):\n",
    "        x = self.pool(torch.relu(self.conv1(x)))  # First conv layer + relu activation + pool\n",
    "        x = self.pool(torch.relu(self.conv2(x)))  # Second conv layer + relu activation + pool\n",
    "        x = x.view(-1, 64*8*8)  # Flatten\n",
    "        x = torch.relu(self.fc1(x))  # Fully connected layer + relu activation\n",
    "        x = self.fc2(x)  # Output layer\n",
    "        return x\n"
   ]
  },
  {
   "cell_type": "markdown",
   "id": "18c023eb",
   "metadata": {},
   "source": [
    "##### ***Step-10: Training CNN model***"
   ]
  },
  {
   "cell_type": "code",
   "execution_count": 28,
   "id": "ad2f0dbc",
   "metadata": {},
   "outputs": [
    {
     "name": "stdout",
     "output_type": "stream",
     "text": [
      "Epoch [1/10], Step [100/782], Loss: 1.5685\n",
      "Epoch [1/10], Step [200/782], Loss: 1.6031\n",
      "Epoch [1/10], Step [300/782], Loss: 1.1271\n",
      "Epoch [1/10], Step [400/782], Loss: 1.3480\n",
      "Epoch [1/10], Step [500/782], Loss: 1.0652\n",
      "Epoch [1/10], Step [600/782], Loss: 1.1511\n",
      "Epoch [1/10], Step [700/782], Loss: 1.0081\n",
      "Epoch [2/10], Step [100/782], Loss: 0.9440\n",
      "Epoch [2/10], Step [200/782], Loss: 0.8884\n",
      "Epoch [2/10], Step [300/782], Loss: 0.8393\n",
      "Epoch [2/10], Step [400/782], Loss: 0.9413\n",
      "Epoch [2/10], Step [500/782], Loss: 0.8966\n",
      "Epoch [2/10], Step [600/782], Loss: 0.6469\n",
      "Epoch [2/10], Step [700/782], Loss: 0.8231\n",
      "Epoch [3/10], Step [100/782], Loss: 0.8305\n",
      "Epoch [3/10], Step [200/782], Loss: 0.4854\n",
      "Epoch [3/10], Step [300/782], Loss: 0.5700\n",
      "Epoch [3/10], Step [400/782], Loss: 0.7513\n",
      "Epoch [3/10], Step [500/782], Loss: 0.5429\n",
      "Epoch [3/10], Step [600/782], Loss: 0.5390\n",
      "Epoch [3/10], Step [700/782], Loss: 0.6204\n",
      "Epoch [4/10], Step [100/782], Loss: 0.5207\n",
      "Epoch [4/10], Step [200/782], Loss: 0.4329\n",
      "Epoch [4/10], Step [300/782], Loss: 0.4381\n",
      "Epoch [4/10], Step [400/782], Loss: 0.4921\n",
      "Epoch [4/10], Step [500/782], Loss: 0.5716\n",
      "Epoch [4/10], Step [600/782], Loss: 0.6131\n",
      "Epoch [4/10], Step [700/782], Loss: 0.4620\n",
      "Epoch [5/10], Step [100/782], Loss: 0.3337\n",
      "Epoch [5/10], Step [200/782], Loss: 0.3071\n",
      "Epoch [5/10], Step [300/782], Loss: 0.5411\n",
      "Epoch [5/10], Step [400/782], Loss: 0.3863\n",
      "Epoch [5/10], Step [500/782], Loss: 0.3709\n",
      "Epoch [5/10], Step [600/782], Loss: 0.5723\n",
      "Epoch [5/10], Step [700/782], Loss: 0.5948\n",
      "Epoch [6/10], Step [100/782], Loss: 0.2474\n",
      "Epoch [6/10], Step [200/782], Loss: 0.1447\n",
      "Epoch [6/10], Step [300/782], Loss: 0.2490\n",
      "Epoch [6/10], Step [400/782], Loss: 0.3246\n",
      "Epoch [6/10], Step [500/782], Loss: 0.4151\n",
      "Epoch [6/10], Step [600/782], Loss: 0.3235\n",
      "Epoch [6/10], Step [700/782], Loss: 0.3772\n",
      "Epoch [7/10], Step [100/782], Loss: 0.0452\n",
      "Epoch [7/10], Step [200/782], Loss: 0.1101\n",
      "Epoch [7/10], Step [300/782], Loss: 0.1664\n",
      "Epoch [7/10], Step [400/782], Loss: 0.1125\n",
      "Epoch [7/10], Step [500/782], Loss: 0.1402\n",
      "Epoch [7/10], Step [600/782], Loss: 0.2519\n",
      "Epoch [7/10], Step [700/782], Loss: 0.1850\n",
      "Epoch [8/10], Step [100/782], Loss: 0.0421\n",
      "Epoch [8/10], Step [200/782], Loss: 0.0801\n",
      "Epoch [8/10], Step [300/782], Loss: 0.0704\n",
      "Epoch [8/10], Step [400/782], Loss: 0.1267\n",
      "Epoch [8/10], Step [500/782], Loss: 0.0431\n",
      "Epoch [8/10], Step [600/782], Loss: 0.1004\n",
      "Epoch [8/10], Step [700/782], Loss: 0.1272\n",
      "Epoch [9/10], Step [100/782], Loss: 0.0294\n",
      "Epoch [9/10], Step [200/782], Loss: 0.0451\n",
      "Epoch [9/10], Step [300/782], Loss: 0.0889\n",
      "Epoch [9/10], Step [400/782], Loss: 0.1068\n",
      "Epoch [9/10], Step [500/782], Loss: 0.0689\n",
      "Epoch [9/10], Step [600/782], Loss: 0.0898\n",
      "Epoch [9/10], Step [700/782], Loss: 0.0844\n",
      "Epoch [10/10], Step [100/782], Loss: 0.0733\n",
      "Epoch [10/10], Step [200/782], Loss: 0.0179\n",
      "Epoch [10/10], Step [300/782], Loss: 0.0355\n",
      "Epoch [10/10], Step [400/782], Loss: 0.0127\n",
      "Epoch [10/10], Step [500/782], Loss: 0.0627\n",
      "Epoch [10/10], Step [600/782], Loss: 0.0646\n",
      "Epoch [10/10], Step [700/782], Loss: 0.0297\n"
     ]
    }
   ],
   "source": [
    "# Initialize the CNN model, loss function, and optimizer\n",
    "model_cnn = CNN().to(device)\n",
    "criterion = nn.CrossEntropyLoss()\n",
    "optimizer = optim.Adam(model_cnn.parameters(), lr=0.001)\n",
    "\n",
    "# Training loop\n",
    "num_epochs = 10\n",
    "for epoch in range(num_epochs):\n",
    "    for i, (images, labels) in enumerate(train_loader):\n",
    "        images = images.to(device)\n",
    "        labels = labels.to(device)\n",
    "\n",
    "        outputs = model_cnn(images)\n",
    "        loss = criterion(outputs, labels)\n",
    "\n",
    "        # Backward pass and optimization\n",
    "        optimizer.zero_grad()\n",
    "        loss.backward()\n",
    "        optimizer.step()\n",
    "\n",
    "        if (i+1) % 100 == 0:\n",
    "            print(f'Epoch [{epoch+1}/{num_epochs}], Step [{i+1}/{len(train_loader)}], Loss: {loss.item():.4f}')"
   ]
  },
  {
   "cell_type": "markdown",
   "id": "9f407083",
   "metadata": {},
   "source": [
    "##### ***Step-11: Testing the CNN model***"
   ]
  },
  {
   "cell_type": "code",
   "execution_count": 29,
   "id": "4b5844c0",
   "metadata": {},
   "outputs": [
    {
     "name": "stdout",
     "output_type": "stream",
     "text": [
      "CNN Accuracy: 0.7335\n",
      "CNN Precision: 0.7361\n",
      "CNN Recall: 0.7335\n",
      "CNN F1-Score: 0.7338\n"
     ]
    }
   ],
   "source": [
    "# Test the CNN model\n",
    "model_cnn.eval()\n",
    "all_preds_cnn = []\n",
    "all_labels_cnn = []\n",
    "\n",
    "with torch.no_grad():\n",
    "    for images, labels in test_loader:\n",
    "        images = images.to(device)\n",
    "        labels = labels.to(device)\n",
    "\n",
    "        outputs = model_cnn(images)\n",
    "        _, predicted = torch.max(outputs.data, 1)\n",
    "        all_preds_cnn.extend(predicted.cpu().numpy())\n",
    "        all_labels_cnn.extend(labels.cpu().numpy())\n",
    "\n",
    "accuracy_cnn = accuracy_score(all_labels_cnn, all_preds_cnn)\n",
    "precision_cnn = precision_score(all_labels_cnn, all_preds_cnn, average='macro')\n",
    "recall_cnn = recall_score(all_labels_cnn, all_preds_cnn, average='macro')\n",
    "f1_cnn = f1_score(all_labels_cnn, all_preds_cnn, average='macro')\n",
    "\n",
    "print(f\"CNN Accuracy: {accuracy_cnn:.4f}\")\n",
    "print(f\"CNN Precision: {precision_cnn:.4f}\")\n",
    "print(f\"CNN Recall: {recall_cnn:.4f}\")\n",
    "print(f\"CNN F1-Score: {f1_cnn:.4f}\")\n"
   ]
  },
  {
   "cell_type": "markdown",
   "id": "5bcdfa30",
   "metadata": {},
   "source": [
    "##### ***Step-12: Making the dataframe for comparing ANN and CNN model***"
   ]
  },
  {
   "cell_type": "code",
   "execution_count": 30,
   "id": "a1a541e0",
   "metadata": {},
   "outputs": [
    {
     "name": "stdout",
     "output_type": "stream",
     "text": [
      "  Model  Accuracy  Precision  Recall  F1-Score\n",
      "0   ANN    0.5302     0.5325  0.5302    0.5298\n",
      "1   CNN    0.7335     0.7361  0.7335    0.7338\n"
     ]
    }
   ],
   "source": [
    "import pandas as pd\n",
    "\n",
    "data = {\n",
    "    'Model': ['ANN', 'CNN'],\n",
    "    'Accuracy': [0.5302, 0.7335],\n",
    "    'Precision': [0.5325, 0.7361],\n",
    "    'Recall': [0.5302, 0.7335],\n",
    "    'F1-Score': [0.5298, 0.7338]\n",
    "}\n",
    "\n",
    "df_comparison = pd.DataFrame(data)\n",
    "print(df_comparison)"
   ]
  },
  {
   "cell_type": "markdown",
   "id": "f95a1689",
   "metadata": {},
   "source": [
    "## ***Advance Level***"
   ]
  },
  {
   "cell_type": "markdown",
   "id": "cd33f9c9",
   "metadata": {},
   "source": [
    "##### ***Step-13: Understanding CNN filters***"
   ]
  },
  {
   "cell_type": "code",
   "execution_count": 31,
   "id": "a0a6183a",
   "metadata": {},
   "outputs": [
    {
     "data": {
      "image/png": "[encoded data removed]",
      "text/plain": [
       "<Figure size 1000x1000 with 16 Axes>"
      ]
     },
     "metadata": {},
     "output_type": "display_data"
    }
   ],
   "source": [
    "# Visualize filters from the first convolutional layer of the CNN model\n",
    "first_conv_layer_weights = model_cnn.conv1.weight.data.cpu().numpy()\n",
    "\n",
    "min_w = first_conv_layer_weights.min()\n",
    "max_w = first_conv_layer_weights.max()\n",
    "first_conv_layer_weights = (first_conv_layer_weights - min_w) / (max_w - min_w)\n",
    "\n",
    "num_filters = first_conv_layer_weights.shape[0]\n",
    "num_plots = min(num_filters, 16)\n",
    "fig, axes = plt.subplots(nrows=4, ncols=4, figsize=(10, 10))\n",
    "axes = axes.flatten()\n",
    "\n",
    "for i in range(num_plots):\n",
    "    filter_img = first_conv_layer_weights[i].transpose(1, 2, 0)\n",
    "    axes[i].imshow(filter_img, cmap='gray')\n",
    "    axes[i].set_title(f'Filter {i+1}')\n",
    "    axes[i].axis('off')\n",
    "\n",
    "# Hide unused subplots\n",
    "for j in range(num_plots, len(axes)):\n",
    "    axes[j].axis('off')\n",
    "\n",
    "plt.tight_layout()\n",
    "plt.show()"
   ]
  },
  {
   "cell_type": "markdown",
   "id": "7628b8b9",
   "metadata": {},
   "source": [
    "##### ***Step-14: Data Augmentation***"
   ]
  },
  {
   "cell_type": "code",
   "execution_count": 32,
   "id": "2ae2a8f6",
   "metadata": {},
   "outputs": [
    {
     "name": "stdout",
     "output_type": "stream",
     "text": [
      "Files already downloaded and verified\n",
      "Files already downloaded and verified\n",
      "Training CNN with Data Augmentation...\n",
      "Epoch [1/10], Step [100/782], Loss: 1.8985\n",
      "Epoch [1/10], Step [200/782], Loss: 1.2191\n",
      "Epoch [1/10], Step [300/782], Loss: 1.2919\n",
      "Epoch [1/10], Step [400/782], Loss: 1.4515\n",
      "Epoch [1/10], Step [500/782], Loss: 1.4454\n",
      "Epoch [1/10], Step [600/782], Loss: 1.2718\n",
      "Epoch [1/10], Step [700/782], Loss: 1.3314\n",
      "Epoch [2/10], Step [100/782], Loss: 1.3573\n",
      "Epoch [2/10], Step [200/782], Loss: 1.3986\n",
      "Epoch [2/10], Step [300/782], Loss: 1.0647\n",
      "Epoch [2/10], Step [400/782], Loss: 1.2142\n",
      "Epoch [2/10], Step [500/782], Loss: 0.9561\n",
      "Epoch [2/10], Step [600/782], Loss: 1.1534\n",
      "Epoch [2/10], Step [700/782], Loss: 1.0478\n",
      "Epoch [3/10], Step [100/782], Loss: 0.8773\n",
      "Epoch [3/10], Step [200/782], Loss: 0.7911\n",
      "Epoch [3/10], Step [300/782], Loss: 0.8247\n",
      "Epoch [3/10], Step [400/782], Loss: 1.2282\n",
      "Epoch [3/10], Step [500/782], Loss: 0.8384\n",
      "Epoch [3/10], Step [600/782], Loss: 1.0040\n",
      "Epoch [3/10], Step [700/782], Loss: 0.9657\n",
      "Epoch [4/10], Step [100/782], Loss: 0.7745\n",
      "Epoch [4/10], Step [200/782], Loss: 0.9009\n",
      "Epoch [4/10], Step [300/782], Loss: 0.9356\n",
      "Epoch [4/10], Step [400/782], Loss: 1.0147\n",
      "Epoch [4/10], Step [500/782], Loss: 0.7887\n",
      "Epoch [4/10], Step [600/782], Loss: 0.9841\n",
      "Epoch [4/10], Step [700/782], Loss: 0.9152\n",
      "Epoch [5/10], Step [100/782], Loss: 0.8889\n",
      "Epoch [5/10], Step [200/782], Loss: 0.8003\n",
      "Epoch [5/10], Step [300/782], Loss: 0.8259\n",
      "Epoch [5/10], Step [400/782], Loss: 0.7441\n",
      "Epoch [5/10], Step [500/782], Loss: 0.8858\n",
      "Epoch [5/10], Step [600/782], Loss: 0.9032\n",
      "Epoch [5/10], Step [700/782], Loss: 0.8303\n",
      "Epoch [6/10], Step [100/782], Loss: 0.9208\n",
      "Epoch [6/10], Step [200/782], Loss: 0.7061\n",
      "Epoch [6/10], Step [300/782], Loss: 0.7794\n",
      "Epoch [6/10], Step [400/782], Loss: 0.8163\n",
      "Epoch [6/10], Step [500/782], Loss: 0.7461\n",
      "Epoch [6/10], Step [600/782], Loss: 0.8014\n",
      "Epoch [6/10], Step [700/782], Loss: 0.7330\n",
      "Epoch [7/10], Step [100/782], Loss: 0.6947\n",
      "Epoch [7/10], Step [200/782], Loss: 0.7444\n",
      "Epoch [7/10], Step [300/782], Loss: 0.5011\n",
      "Epoch [7/10], Step [400/782], Loss: 0.8918\n",
      "Epoch [7/10], Step [500/782], Loss: 0.8317\n",
      "Epoch [7/10], Step [600/782], Loss: 0.6131\n",
      "Epoch [7/10], Step [700/782], Loss: 0.7078\n",
      "Epoch [8/10], Step [100/782], Loss: 0.7997\n",
      "Epoch [8/10], Step [200/782], Loss: 0.9957\n",
      "Epoch [8/10], Step [300/782], Loss: 0.8710\n",
      "Epoch [8/10], Step [400/782], Loss: 0.7566\n",
      "Epoch [8/10], Step [500/782], Loss: 1.0146\n",
      "Epoch [8/10], Step [600/782], Loss: 0.5829\n",
      "Epoch [8/10], Step [700/782], Loss: 0.9395\n",
      "Epoch [9/10], Step [100/782], Loss: 0.7252\n",
      "Epoch [9/10], Step [200/782], Loss: 0.6798\n",
      "Epoch [9/10], Step [300/782], Loss: 0.6589\n",
      "Epoch [9/10], Step [400/782], Loss: 0.8808\n",
      "Epoch [9/10], Step [500/782], Loss: 0.5624\n",
      "Epoch [9/10], Step [600/782], Loss: 0.6188\n",
      "Epoch [9/10], Step [700/782], Loss: 0.7146\n",
      "Epoch [10/10], Step [100/782], Loss: 0.7035\n",
      "Epoch [10/10], Step [200/782], Loss: 0.7989\n",
      "Epoch [10/10], Step [300/782], Loss: 0.6883\n",
      "Epoch [10/10], Step [400/782], Loss: 0.6650\n",
      "Epoch [10/10], Step [500/782], Loss: 0.6587\n",
      "Epoch [10/10], Step [600/782], Loss: 0.6533\n",
      "Epoch [10/10], Step [700/782], Loss: 0.6014\n"
     ]
    }
   ],
   "source": [
    "# Define data augmentation transformations\n",
    "train_transform_augmented = transforms.Compose([\n",
    "    transforms.RandomHorizontalFlip(),\n",
    "    transforms.RandomCrop(32, padding=4),\n",
    "    transforms.ToTensor(),\n",
    "    transforms.Normalize((0.5, 0.5, 0.5), (0.5, 0.5, 0.5))\n",
    "])\n",
    "\n",
    "# Load CIFAR-10 dataset with data augmentation\n",
    "train_dataset_augmented = torchvision.datasets.CIFAR10(root='./data', train=True,\n",
    "                                                      download=True, transform=train_transform_augmented)\n",
    "test_dataset = torchvision.datasets.CIFAR10(root='./data', train=False,\n",
    "                                       download=True, transform=transform) # Use the original transform for testing\n",
    "\n",
    "train_loader_augmented = DataLoader(dataset=train_dataset_augmented, batch_size=64, shuffle=True)\n",
    "test_loader = DataLoader(dataset=test_dataset, batch_size=64, shuffle=False)\n",
    "\n",
    "# TODO: Initialize CNN model, loss function, and optimizer\n",
    "model_cnn_augmented = CNN().to(device)\n",
    "criterion = nn.CrossEntropyLoss()\n",
    "optimizer_augmented = optim.Adam(model_cnn_augmented.parameters(), lr=0.001)\n",
    "\n",
    "print(\"Training CNN with Data Augmentation...\")\n",
    "\n",
    "num_epochs = 10\n",
    "for epoch in range(num_epochs):\n",
    "    for i, (images, labels) in enumerate(train_loader_augmented):\n",
    "\n",
    "        # Move images and labels to the device\n",
    "        images = images.to(device)\n",
    "        labels = labels.to(device)\n",
    "\n",
    "        # Forward pass\n",
    "        outputs = model_cnn_augmented(images)\n",
    "        loss = criterion(outputs, labels)\n",
    "\n",
    "        # Backward pass and optimization\n",
    "        optimizer_augmented.zero_grad()\n",
    "        loss.backward()\n",
    "        optimizer_augmented.step()\n",
    "\n",
    "        if (i + 1) % 100 == 0:\n",
    "            print(f\"Epoch [{epoch+1}/{num_epochs}], Step [{i+1}/{len(train_loader_augmented)}], Loss: {loss.item():.4f}\")"
   ]
  },
  {
   "cell_type": "markdown",
   "id": "1caee197",
   "metadata": {},
   "source": [
    "##### ***Step-15: Visualize Incorrect Predictions***"
   ]
  },
  {
   "cell_type": "code",
   "execution_count": 33,
   "id": "b226403a",
   "metadata": {},
   "outputs": [
    {
     "data": {
      "image/png": "[encoded data removed]",
      "text/plain": [
       "<Figure size 2000x400 with 10 Axes>"
      ]
     },
     "metadata": {},
     "output_type": "display_data"
    }
   ],
   "source": [
    "model_to_evaluate = model_cnn_augmented\n",
    "model_to_evaluate.eval()\n",
    "\n",
    "\n",
    "incorrect_preds = []\n",
    "incorrect_labels = []\n",
    "incorrect_images = []\n",
    "\n",
    "with torch.no_grad():\n",
    "    for images, labels in test_loader:\n",
    "        images_cpu = images.cpu()\n",
    "        images = images.to(device)\n",
    "        labels = labels.to(device)\n",
    "\n",
    "        # Forward pass\n",
    "        outputs = model_to_evaluate(images)\n",
    "        _, predicted = torch.max(outputs.data, 1)\n",
    "\n",
    "        for i in range(len(labels)):\n",
    "            if predicted[i] != labels[i]:\n",
    "                incorrect_preds.append(predicted[i].item())\n",
    "                incorrect_labels.append(labels[i].item())\n",
    "                # Denormalize the image before storing\n",
    "                img = images_cpu[i].numpy().transpose((1, 2, 0))\n",
    "                img = 0.5 * img + 0.5 # Denormalize\n",
    "                img = np.clip(img, 0, 1)\n",
    "                incorrect_images.append(img)\n",
    "\n",
    "# Display up to 10 incorrect predictions, add more visualisations if possible\n",
    "num_to_display = min(len(incorrect_images), 10)\n",
    "fig, axes = plt.subplots(nrows=1, ncols=num_to_display, figsize=(20, 4))\n",
    "\n",
    "if num_to_display > 0:\n",
    "    for i in range(num_to_display):\n",
    "        axes[i].imshow(incorrect_images[i])\n",
    "        axes[i].set_title(f'Pred: {incorrect_preds[i]}, True: {incorrect_labels[i]}')\n",
    "        axes[i].axis('off')\n",
    "    plt.tight_layout()\n",
    "    plt.show()\n",
    "else:\n",
    "    print(\"No incorrect predictions to display.\")"
   ]
  }
 ],
 "metadata": {
  "kernelspec": {
   "display_name": "Python 3",
   "language": "python",
   "name": "python3"
  },
  "language_info": {
   "codemirror_mode": {
    "name": "ipython",
    "version": 3
   },
   "file_extension": ".py",
   "mimetype": "text/x-python",
   "name": "python",
   "nbconvert_exporter": "python",
   "pygments_lexer": "ipython3",
   "version": "3.11.9"
  }
 },
 "nbformat": 4,
 "nbformat_minor": 5
}
